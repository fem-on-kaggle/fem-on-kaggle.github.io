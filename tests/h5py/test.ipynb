{
 "cells": [
  {
   "cell_type": "code",
   "execution_count": null,
   "id": "write_kaggle_json",
   "metadata": {},
   "outputs": [],
   "source": [
    "\n",
    "import os\n",
    "kaggle_home = os.path.join(os.path.expanduser(\"~\"), \".kaggle\")\n",
    "os.makedirs(kaggle_home, exist_ok=True)\n",
    "kaggle_json = os.path.join(kaggle_home, \"kaggle.json\")\n",
    "with open(kaggle_json, \"w\") as f:\n",
    "    f.write('{\"username\": \"\", \"key\": \"\"}')\n",
    "os.chmod(kaggle_json, 0o600)\n"
   ]
  },
  {
   "cell_type": "code",
   "execution_count": null,
   "id": "mediterranean-century",
   "metadata": {},
   "outputs": [],
   "source": [
    "try:\n",
    "    import kaggle  # noqa: F401\n",
    "except ImportError:\n",
    "    import h5py\n",
    "else:\n",
    "    !wget \"https://fem-on-kaggle.github.io/releases/h5py-install.sh\" -O \"/tmp/h5py-install.sh\" && bash \"/tmp/h5py-install.sh\"\n",
    "    import h5py"
   ]
  },
  {
   "cell_type": "code",
   "execution_count": null,
   "id": "antique-renewal",
   "metadata": {},
   "outputs": [],
   "source": [
    "with h5py.File(\"mytestfile.hdf5\", \"w\") as f:\n",
    "    dset = f.create_dataset(\"mydataset\", (100,), dtype=\"i\", compression=\"gzip\")"
   ]
  },
  {
   "cell_type": "code",
   "execution_count": null,
   "id": "younger-lebanon",
   "metadata": {},
   "outputs": [],
   "source": [
    "with h5py.File(\"mytestfile.hdf5\", \"r\") as f:\n",
    "    assert list(f.keys()) == [\"mydataset\"]"
   ]
  }
 ],
 "metadata": {
  "kernelspec": {
   "display_name": "Python 3 (ipykernel)",
   "language": "python",
   "name": "python3"
  },
  "language_info": {
   "codemirror_mode": {
    "name": "ipython"
   },
   "file_extension": ".py",
   "mimetype": "text/x-python",
   "name": "python",
   "nbconvert_exporter": "python"
  }
 },
 "nbformat": 4,
 "nbformat_minor": 5
}
