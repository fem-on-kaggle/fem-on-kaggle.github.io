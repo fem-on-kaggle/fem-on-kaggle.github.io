{
 "cells": [
  {
   "cell_type": "code",
   "execution_count": null,
   "id": "write_kaggle_json",
   "metadata": {},
   "outputs": [],
   "source": [
    "import os\n",
    "kaggle_home = os.path.join(os.path.expanduser(\"~\"), \".kaggle\")\n",
    "os.makedirs(kaggle_home, exist_ok=True)\n",
    "kaggle_json = os.path.join(kaggle_home, \"kaggle.json\")\n",
    "with open(kaggle_json, \"w\") as f:\n",
    "    f.write('{\"username\": \"\", \"key\": \"\"}')\n",
    "os.chmod(kaggle_json, 0o600)"
   ]
  },
  {
   "cell_type": "code",
   "execution_count": null,
   "id": "47ce1a93",
   "metadata": {},
   "outputs": [],
   "source": [
    "try:\n",
    "    import kaggle  # noqa: F401\n",
    "except ImportError:\n",
    "    import itkwidgets\n",
    "else:\n",
    "    !wget \"https://fem-on-kaggle.github.io/releases/itk-install.sh\" -O \"/tmp/itk-install.sh\" && bash \"/tmp/itk-install.sh\"\n",
    "    import itkwidgets"
   ]
  },
  {
   "cell_type": "code",
   "execution_count": null,
   "id": "4b216423",
   "metadata": {},
   "outputs": [],
   "source": [
    "import pyvista.examples"
   ]
  },
  {
   "cell_type": "code",
   "execution_count": null,
   "id": "6924458b",
   "metadata": {},
   "outputs": [],
   "source": [
    "itkwidgets.view(geometries=pyvista.examples.load_hexbeam())"
   ]
  }
 ],
 "metadata": {
  "kernelspec": {
   "display_name": "Python 3 (ipykernel)",
   "language": "python",
   "name": "python3"
  },
  "language_info": {
   "codemirror_mode": {
    "name": "ipython"
   },
   "file_extension": ".py",
   "mimetype": "text/x-python",
   "name": "python",
   "nbconvert_exporter": "python"
  }
 },
 "nbformat": 4,
 "nbformat_minor": 5
}
