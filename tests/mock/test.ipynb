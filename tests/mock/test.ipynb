{
 "cells": [
  {
   "cell_type": "code",
   "execution_count": null,
   "id": "write_kaggle_json",
   "metadata": {},
   "outputs": [],
   "source": [
    "\n",
    "import os\n",
    "kaggle_home = os.path.join(os.path.expanduser(\"~\"), \".kaggle\")\n",
    "os.makedirs(kaggle_home, exist_ok=True)\n",
    "kaggle_json = os.path.join(kaggle_home, \"kaggle.json\")\n",
    "with open(kaggle_json, \"w\") as f:\n",
    "    f.write('{\"username\": \"\", \"key\": \"\"}')\n",
    "os.chmod(kaggle_json, 0o600)\n"
   ]
  },
  {
   "cell_type": "code",
   "execution_count": null,
   "id": "mediterranean-century",
   "metadata": {},
   "outputs": [],
   "source": [
    "try:\n",
    "    import kaggle  # noqa: F401\n",
    "except ImportError:\n",
    "    import mock\n",
    "else:\n",
    "    try:\n",
    "        import mock\n",
    "    except ImportError:\n",
    "        !wget \"https://fem-on-kaggle.github.io/releases/mock-install.sh\" -O \"/tmp/mock-install.sh\" && bash \"/tmp/mock-install.sh\"\n",
    "        import mock"
   ]
  },
  {
   "cell_type": "code",
   "execution_count": null,
   "id": "ahead-benefit",
   "metadata": {},
   "outputs": [],
   "source": [
    "assert mock.variable == 1"
   ]
  }
 ],
 "metadata": {
  "kernelspec": {
   "display_name": "Python 3",
   "language": "python",
   "name": "python3"
  },
  "language_info": {
   "codemirror_mode": {
    "name": "ipython"
   },
   "file_extension": ".py",
   "mimetype": "text/x-python",
   "name": "python",
   "nbconvert_exporter": "python"
  }
 },
 "nbformat": 4,
 "nbformat_minor": 5
}
